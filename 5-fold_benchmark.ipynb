{
 "cells": [
  {
   "cell_type": "code",
   "execution_count": 36,
   "metadata": {},
   "outputs": [
    {
     "data": {
      "text/plain": [
       "<torch._C.Generator at 0x25077b67cb0>"
      ]
     },
     "execution_count": 36,
     "metadata": {},
     "output_type": "execute_result"
    }
   ],
   "source": [
    "import numpy as np\n",
    "import torch\n",
    "import torch.nn as nn\n",
    "\n",
    "from sklearn.metrics import fbeta_score\n",
    "from sklearn.model_selection import KFold\n",
    "from torch.optim.lr_scheduler import OneCycleLR, CosineAnnealingLR\n",
    "from torch.utils.data import DataLoader, Subset\n",
    "\n",
    "from src.data.dataset import CNSDataset\n",
    "from src.descriptors import DescriptorGenerator, AVAILABLE_DESCRIPTORS\n",
    "\n",
    "device = torch.device(\"cuda:0\" if torch.cuda.is_available() else \"cpu\")\n",
    "torch.random.manual_seed(0)"
   ]
  },
  {
   "cell_type": "code",
   "execution_count": 37,
   "metadata": {},
   "outputs": [],
   "source": [
    "def train_mlp(model, loss_fn, optimizer, scheduler, train_loader, total_epoch=300):\n",
    "    model.train()\n",
    "    for nepoch in range(total_epoch):\n",
    "        for batch in train_loader:\n",
    "            y_pred = model(batch[0])\n",
    "            loss = loss_fn(y_pred, batch[1].to(device).reshape(-1, 1).float())\n",
    "            optimizer.zero_grad()\n",
    "            loss.backward()\n",
    "            optimizer.step()\n",
    "            scheduler.step()\n",
    "    return model"
   ]
  },
  {
   "cell_type": "code",
   "execution_count": 3,
   "metadata": {},
   "outputs": [
    {
     "data": {
      "application/vnd.jupyter.widget-view+json": {
       "model_id": "5a4ce47505aa49f2a4f8bedc9ddd6a77",
       "version_major": 2,
       "version_minor": 0
      },
      "text/plain": [
       "Output()"
      ]
     },
     "metadata": {},
     "output_type": "display_data"
    },
    {
     "data": {
      "text/html": [
       "<pre style=\"white-space:pre;overflow-x:auto;line-height:normal;font-family:Menlo,'DejaVu Sans Mono',consolas,'Courier New',monospace\"></pre>\n"
      ],
      "text/plain": []
     },
     "metadata": {},
     "output_type": "display_data"
    },
    {
     "data": {
      "text/html": [
       "<pre style=\"white-space:pre;overflow-x:auto;line-height:normal;font-family:Menlo,'DejaVu Sans Mono',consolas,'Courier New',monospace\">\n",
       "</pre>\n"
      ],
      "text/plain": [
       "\n"
      ]
     },
     "metadata": {},
     "output_type": "display_data"
    },
    {
     "name": "stdout",
     "output_type": "stream",
     "text": [
      "NaN in descriptors, remove it\n",
      "Now the shape is torch.Size([700, 2912])\n"
     ]
    }
   ],
   "source": [
    "TRAIN_DATASET = \"dataset\\mol_train.csv\"\n",
    "TEST_DATASET = \"dataset\\mol_test.csv\"\n",
    "\n",
    "whole_dataset = CNSDataset(TRAIN_DATASET, transform=DescriptorGenerator(AVAILABLE_DESCRIPTORS))\n",
    "mean = torch.mean(whole_dataset._processed_data, axis=0)\n",
    "std = torch.std(whole_dataset._processed_data, axis=0)\n",
    "max = torch.max(whole_dataset._processed_data, axis=0).values\n",
    "min = torch.min(whole_dataset._processed_data, axis=0).values\n",
    "whole_dataset.normalize(max, min)\n",
    "\n",
    "nfeatures = whole_dataset._processed_data.shape[1]\n",
    "\n",
    "print(f\"Now the shape is {whole_dataset._processed_data.shape}\")"
   ]
  },
  {
   "cell_type": "code",
   "execution_count": 54,
   "metadata": {},
   "outputs": [
    {
     "name": "stdout",
     "output_type": "stream",
     "text": [
      "Train F2 score: 0.997, Train accuracy: 0.998\n",
      "Validation F2 score: 0.799, Validation accuracy: 0.854\n"
     ]
    }
   ],
   "source": [
    "total_epoch = 500\n",
    "train_fs = []\n",
    "train_acc = []\n",
    "val_fs = []\n",
    "val_acc = []\n",
    "for fold, (train_idx, val_idx) in enumerate(\n",
    "    KFold(n_splits=5, shuffle=True).split(whole_dataset)\n",
    "):\n",
    "    fold_train = Subset(whole_dataset, train_idx)\n",
    "    fold_train_loader = DataLoader(fold_train, batch_size=32)\n",
    "    fold_val = whole_dataset[val_idx]\n",
    "    model = nn.Sequential(\n",
    "        # nn.Linear(nfeatures, 3072),\n",
    "        # nn.LayerNorm(3072),\n",
    "        # nn.ReLU(),\n",
    "        # nn.Dropout(0.8),\n",
    "        # nn.Linear(3072, 2048),\n",
    "        # nn.LayerNorm(2048),\n",
    "        # nn.ReLU(),\n",
    "        # nn.Dropout(0.6),\n",
    "        nn.Linear(nfeatures, 1024),\n",
    "        nn.LayerNorm(1024),\n",
    "        nn.ReLU(),\n",
    "        nn.Dropout(0.4),\n",
    "        nn.Linear(1024, 512),\n",
    "        nn.ReLU(),\n",
    "        nn.Dropout(0.4),\n",
    "        nn.Linear(512, 128),\n",
    "        nn.LayerNorm(128),\n",
    "        nn.ReLU(),\n",
    "        nn.Dropout(0.4),\n",
    "        nn.Linear(128, 1),\n",
    "        nn.Sigmoid(),\n",
    "    )\n",
    "    model.to(device)\n",
    "    loss_fn = nn.BCELoss()\n",
    "    loss_fn.to(device)\n",
    "    optimizer = torch.optim.Adam(model.parameters(), lr=1e-3, weight_decay=1e-3)\n",
    "    # scheduler = CosineAnnealingLR(optimizer, 50, eta_min=1e-20)\n",
    "    scheduler = OneCycleLR(\n",
    "        optimizer,\n",
    "        max_lr=1e-3,\n",
    "        epochs=total_epoch,\n",
    "        steps_per_epoch=int(700 * 0.8 / 32) + 1,\n",
    "        final_div_factor=1e6,\n",
    "    )\n",
    "    model = train_mlp(\n",
    "        model, loss_fn, optimizer, scheduler, fold_train_loader, total_epoch=total_epoch\n",
    "    )\n",
    "\n",
    "    model.eval()\n",
    "    y_pred = model(whole_dataset[train_idx][0])\n",
    "    y_pred[y_pred > 0.5] = 1.0\n",
    "    y_pred[y_pred <= 0.5] = 0.0\n",
    "    y_pred = y_pred.detach().cpu().numpy().reshape(-1)\n",
    "    train_fs.append(fbeta_score(y_pred, whole_dataset[train_idx][1], beta=2))\n",
    "    train_acc.append(\n",
    "        np.average(y_pred == whole_dataset[train_idx][1])\n",
    "    )\n",
    "    y_pred = model(whole_dataset[val_idx][0])\n",
    "    y_pred[y_pred > 0.5] = 1.0\n",
    "    y_pred[y_pred <= 0.5] = 0.0\n",
    "    y_pred = y_pred.detach().cpu().numpy().reshape(-1)\n",
    "    val_fs.append(fbeta_score(y_pred, whole_dataset[val_idx][1], beta=2))\n",
    "    val_acc.append(\n",
    "        np.average(y_pred == whole_dataset[val_idx][1])\n",
    "    )\n",
    "print(f\"Train F2 score: {np.mean(train_fs):.3f}, Train accuracy: {np.mean(train_acc):.3f}\\n\"\n",
    "      f\"Validation F2 score: {np.mean(val_fs):.3f}, Validation accuracy: {np.mean(val_acc):.3f}\")"
   ]
  },
  {
   "cell_type": "code",
   "execution_count": null,
   "metadata": {},
   "outputs": [],
   "source": []
  }
 ],
 "metadata": {
  "kernelspec": {
   "display_name": "base",
   "language": "python",
   "name": "python3"
  },
  "language_info": {
   "codemirror_mode": {
    "name": "ipython",
    "version": 3
   },
   "file_extension": ".py",
   "mimetype": "text/x-python",
   "name": "python",
   "nbconvert_exporter": "python",
   "pygments_lexer": "ipython3",
   "version": "3.11.4"
  }
 },
 "nbformat": 4,
 "nbformat_minor": 2
}
